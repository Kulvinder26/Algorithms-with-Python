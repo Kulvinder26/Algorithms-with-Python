{
 "cells": [
  {
   "cell_type": "code",
   "execution_count": 45,
   "metadata": {},
   "outputs": [],
   "source": [
    "import math\n",
    "\n",
    "\n",
    "X = 'ABCBDAB'\n",
    "Y = 'BDCABA'\n",
    "\n",
    "#'JBC' & 'BCB'"
   ]
  },
  {
   "cell_type": "code",
   "execution_count": 46,
   "metadata": {},
   "outputs": [],
   "source": [
    "def create_aux_storage(m,n):\n",
    "    \n",
    "    b = [['' for i in range(1,n+1)] for j in range(1,m+1)]\n",
    "    \n",
    "    c = [[math.inf for i in range(0,n+1)] for j in range(0,m+1)]\n",
    "    \n",
    "    return b,c"
   ]
  },
  {
   "cell_type": "code",
   "execution_count": 52,
   "metadata": {},
   "outputs": [],
   "source": [
    "def LCS_length(X,Y):\n",
    "    \n",
    "    m = len(X)\n",
    "    n = len(Y)\n",
    "    \n",
    "    b,c = create_aux_storage(m,n)\n",
    "    \n",
    "\n",
    "    \n",
    "    for i in range(m+1):\n",
    "        c[i][0] = 0\n",
    "    \n",
    "    for j in range(n+1):\n",
    "        c[0][j] = 0\n",
    "        \n",
    "\n",
    "    \n",
    "    for i in range(1,m+1):\n",
    "        \n",
    "        for j in range(1,n+1):\n",
    "            \n",
    "            if X[i-1] == Y[j-1]:\n",
    "                \n",
    "                c[i][j] = c[i-1][j-1] +1\n",
    "                b[i-1][j-1] = 'up-left'\n",
    "                \n",
    "            elif c[i-1][j] >= c[i][j-1]:\n",
    "                \n",
    "                c[i][j] = c[i-1][j]\n",
    "                b[i-1][j-1] = 'up'\n",
    "            \n",
    "            else:\n",
    "                \n",
    "                c[i][j] = c[i][j-1]\n",
    "                b[i-1][j-1] = 'left'\n",
    "                \n",
    "                \n",
    "                    \n",
    "    return c,b\n",
    "            "
   ]
  },
  {
   "cell_type": "code",
   "execution_count": 53,
   "metadata": {},
   "outputs": [],
   "source": [
    "def print_LCS(b,X,i,j):\n",
    "    \n",
    "    if i==0 or j==0:\n",
    "        return \n",
    "    if b[i-1][j-1] == 'up-left':\n",
    "        \n",
    "        print_LCS(b,X,i-1,j-1)\n",
    "        print(X[i-1])\n",
    "    \n",
    "    elif b[i-1][j-1] == 'up':\n",
    "        print_LCS(b,X,i-1,j)\n",
    "        \n",
    "    else:\n",
    "        print_LCS(b,X,i,j-1)\n"
   ]
  },
  {
   "cell_type": "code",
   "execution_count": 54,
   "metadata": {},
   "outputs": [],
   "source": [
    "c,b = LCS_length(X,Y)"
   ]
  },
  {
   "cell_type": "code",
   "execution_count": 55,
   "metadata": {},
   "outputs": [
    {
     "name": "stdout",
     "output_type": "stream",
     "text": [
      "B\n",
      "C\n",
      "B\n",
      "A\n"
     ]
    }
   ],
   "source": [
    "print_LCS(b,X,len(X),len(Y))"
   ]
  }
 ],
 "metadata": {
  "kernelspec": {
   "display_name": "Python 3",
   "language": "python",
   "name": "python3"
  },
  "language_info": {
   "codemirror_mode": {
    "name": "ipython",
    "version": 3
   },
   "file_extension": ".py",
   "mimetype": "text/x-python",
   "name": "python",
   "nbconvert_exporter": "python",
   "pygments_lexer": "ipython3",
   "version": "3.6.9"
  }
 },
 "nbformat": 4,
 "nbformat_minor": 2
}
