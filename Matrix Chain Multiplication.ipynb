{
 "cells": [
  {
   "cell_type": "code",
   "execution_count": 273,
   "metadata": {},
   "outputs": [],
   "source": [
    "import math"
   ]
  },
  {
   "cell_type": "code",
   "execution_count": 274,
   "metadata": {},
   "outputs": [],
   "source": [
    "def create_aux_storage(n):\n",
    "    \n",
    "    m = [[math.inf for i in range(n)] for j in range(n)]\n",
    "    s = [[0 for i in range(n)] for j in range(n)]\n",
    "    \n",
    "    return m,s"
   ]
  },
  {
   "cell_type": "code",
   "execution_count": 323,
   "metadata": {},
   "outputs": [],
   "source": [
    "def matrix_multiplication_order(p):\n",
    "    \n",
    "    n = len(p) - 1\n",
    "    \n",
    "    m,s = create_aux_storage(n)\n",
    "\n",
    "    #setting value for all problems of length 1 as 0\n",
    "    for i in range(0,n):\n",
    "       \n",
    "        m[i][i] = 0\n",
    "        \n",
    "\n",
    "    #start from problems of length 2 till n\n",
    "    \n",
    "    for l in range(2,n+1):\n",
    "        \n",
    "        for i in range(1,n-l+2):\n",
    "            \n",
    "            j = i + l - 1\n",
    "\n",
    "            for k in range(i,j):\n",
    "\n",
    "                q = m[i-1][k-1] + m[k][j-1] +  (p[i-1]*p[k]*p[j])\n",
    "                \n",
    "                \n",
    "                \n",
    "                if q < m[i-1][j-1]:\n",
    "                    \n",
    "                    m[i-1][j-1] = q\n",
    "                    \n",
    "                  \n",
    "                    s[i-1][j-1] = k\n",
    "      \n",
    "                    \n",
    "    return m,s"
   ]
  },
  {
   "cell_type": "code",
   "execution_count": 324,
   "metadata": {},
   "outputs": [],
   "source": [
    "def print_optimal_parens(s,i,j):\n",
    "    \n",
    "\n",
    "    if i==j:\n",
    "        print('A{}'.format(i),end='',sep='')\n",
    "    else :\n",
    "        print('(',end='')\n",
    "        print_optimal_parens(s, i, s[i-1][j-1])\n",
    "        print_optimal_parens(s, s[i-1][j-1] + 1, j)\n",
    "        print(')',end='')\n",
    "    "
   ]
  },
  {
   "cell_type": "code",
   "execution_count": 325,
   "metadata": {},
   "outputs": [],
   "source": [
    "p = [5,10,3,12,5,50,6]\n",
    "#[30,35,15,5,10,20,25]"
   ]
  },
  {
   "cell_type": "code",
   "execution_count": 326,
   "metadata": {},
   "outputs": [],
   "source": [
    "m,s = matrix_multiplication_order(p)"
   ]
  },
  {
   "cell_type": "code",
   "execution_count": 327,
   "metadata": {},
   "outputs": [
    {
     "name": "stdout",
     "output_type": "stream",
     "text": [
      "((A1A2)((A3A4)(A5A6)))"
     ]
    }
   ],
   "source": [
    "print_optimal_parens(s,1,6)"
   ]
  },
  {
   "cell_type": "code",
   "execution_count": null,
   "metadata": {},
   "outputs": [],
   "source": []
  }
 ],
 "metadata": {
  "kernelspec": {
   "display_name": "Python 3",
   "language": "python",
   "name": "python3"
  },
  "language_info": {
   "codemirror_mode": {
    "name": "ipython",
    "version": 3
   },
   "file_extension": ".py",
   "mimetype": "text/x-python",
   "name": "python",
   "nbconvert_exporter": "python",
   "pygments_lexer": "ipython3",
   "version": "3.6.9"
  }
 },
 "nbformat": 4,
 "nbformat_minor": 2
}
