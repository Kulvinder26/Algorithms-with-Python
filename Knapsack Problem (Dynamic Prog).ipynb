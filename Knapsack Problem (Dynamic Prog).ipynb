{
 "cells": [
  {
   "cell_type": "markdown",
   "metadata": {},
   "source": [
    "## Solving Knapsack Problem using Dynamic Programming"
   ]
  },
  {
   "cell_type": "code",
   "execution_count": 93,
   "metadata": {},
   "outputs": [],
   "source": [
    "\n",
    "\n",
    "\n",
    "#Items  : 1    2    3   4  \n",
    "#Value  : 15   10   8   5\n",
    "#Weight : 1    5    3   4\n",
    "\n",
    "#Maximum Weight : 8\n",
    "    \n",
    "    \n",
    "v = [15,10,9,5]\n",
    "w = [1,5,3,4]\n",
    "\n",
    "W = 8\n"
   ]
  },
  {
   "cell_type": "code",
   "execution_count": 94,
   "metadata": {},
   "outputs": [],
   "source": [
    "\n",
    "import math \n",
    "import pandas as pd\n",
    "\n",
    "def get_aux_storage(a,b):\n",
    "    \n",
    "    store = [[0 for i in range(a+1)] for j in range(b+1)]\n",
    "    \n",
    "    df = pd.DataFrame(store)\n",
    "    return df\n",
    "\n",
    "\n",
    "\n",
    "    "
   ]
  },
  {
   "cell_type": "code",
   "execution_count": 95,
   "metadata": {},
   "outputs": [],
   "source": [
    "def knapsack(v,w,W):\n",
    "    \n",
    "    V = get_aux_storage(len(v),W)\n",
    "        \n",
    "    k = W\n",
    "    for x in range(0,W+1):\n",
    "        for i in range(1,len(v)+1):\n",
    "\n",
    "\n",
    "\n",
    "                if w[i-1] > x:\n",
    "                    \n",
    "                    V[i][x] = V[i-1][x]\n",
    "                \n",
    "                else:\n",
    "\n",
    "                    temp1 = V[i-1][x]\n",
    "                    temp2 = v[i-1] \n",
    "                    temp2 += V[i-1][x - w[i-1]]\n",
    "\n",
    "                    \n",
    "        \n",
    "                    g = max(temp1,temp2)\n",
    "                    V[i][x] = g\n",
    "                \n",
    "    get_soln_knapsack(V,W,v,w)\n",
    "    \n",
    "        \n",
    "    return \n",
    "            \n",
    "            "
   ]
  },
  {
   "cell_type": "code",
   "execution_count": 101,
   "metadata": {},
   "outputs": [],
   "source": [
    "def get_soln_knapsack(V,W,v,w):\n",
    "    \n",
    "    g = W\n",
    "    picked = {}\n",
    "    for k in range(len(v),0,-1):\n",
    "        \n",
    "        flag = 0\n",
    "        \n",
    "        if V[k][g] != V[k-1][g]:\n",
    "            flag = 1\n",
    "            g -= w[k-1]\n",
    "        \n",
    "        picked[k] = flag\n",
    "        \n",
    "    \n",
    "    \n",
    "    #display(V) to display the table\n",
    "    \n",
    "    print(\"Items/Tasks Picked\",[i for i,j in picked.items() if j == 1],\" Total Maximized value\",V.loc[W,len(v)])\n",
    "    \n",
    "    "
   ]
  },
  {
   "cell_type": "code",
   "execution_count": 102,
   "metadata": {},
   "outputs": [
    {
     "name": "stdout",
     "output_type": "stream",
     "text": [
      "Items/Tasks Picked [4, 3, 1]  Total Maximized value 29\n"
     ]
    }
   ],
   "source": [
    "knapsack(v,w,W)"
   ]
  },
  {
   "cell_type": "markdown",
   "metadata": {},
   "source": [
    "### Resources\n",
    "\n",
    "[Lecture notes from CS 161 Stanford](https://math.berkeley.edu/~moorxu/oldsite/notes/161/161main.pdf)\n",
    "\n",
    "[Lecture notes on Knapsack](http://www.mafy.lut.fi/study/DiscreteOpt/DYNKNAP.pdf)"
   ]
  }
 ],
 "metadata": {
  "kernelspec": {
   "display_name": "Python 3",
   "language": "python",
   "name": "python3"
  },
  "language_info": {
   "codemirror_mode": {
    "name": "ipython",
    "version": 3
   },
   "file_extension": ".py",
   "mimetype": "text/x-python",
   "name": "python",
   "nbconvert_exporter": "python",
   "pygments_lexer": "ipython3",
   "version": "3.6.9"
  }
 },
 "nbformat": 4,
 "nbformat_minor": 2
}
